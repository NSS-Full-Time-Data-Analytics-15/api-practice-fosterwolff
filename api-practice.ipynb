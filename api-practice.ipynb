{
 "cells": [
  {
   "cell_type": "code",
   "execution_count": 12,
   "id": "1814645e-fba6-4f30-a44b-15280e111800",
   "metadata": {},
   "outputs": [],
   "source": [
    "import requests\n",
    "from bs4 import BeautifulSoup as bs\n",
    "import pandas as pd"
   ]
  },
  {
   "cell_type": "code",
   "execution_count": 13,
   "id": "d0ad484e-66e9-42d6-b9b2-f27090134563",
   "metadata": {},
   "outputs": [],
   "source": [
    "r = requests.get('https://api.worldbank.org/v2/country/all/indicator/NY.GDP.PCAP.PP.KD?format=json&per_page=17024')"
   ]
  },
  {
   "cell_type": "code",
   "execution_count": 14,
   "id": "11d7481e-d431-4b12-8a64-d0142368a80e",
   "metadata": {},
   "outputs": [],
   "source": [
    "gdp_data = r.json()[1]"
   ]
  },
  {
   "cell_type": "code",
   "execution_count": 15,
   "id": "90f20fca-49f7-4f6a-8019-6351f6de0420",
   "metadata": {},
   "outputs": [],
   "source": [
    "gdp_data_df = df = pd.DataFrame([{'gdp_indicator': item['indicator']['id'], 'country': item['country']['value'], 'countryiso3code': item['countryiso3code'], 'date': item['date'], 'gdp_value': item['value']} for item in gdp_data])"
   ]
  },
  {
   "cell_type": "code",
   "execution_count": 16,
   "id": "3d07a78f-3787-4bad-944e-e952e46013df",
   "metadata": {},
   "outputs": [],
   "source": [
    "r = requests.get('https://api.worldbank.org/v2/country/all/indicator/SP.DYN.LE00.IN?format=json&per_page=17024')"
   ]
  },
  {
   "cell_type": "code",
   "execution_count": 17,
   "id": "ffdf2c94-da1d-4e45-b2d5-4c47a6a39b65",
   "metadata": {},
   "outputs": [
    {
     "ename": "NameError",
     "evalue": "name 'life_data' is not defined",
     "output_type": "error",
     "traceback": [
      "\u001b[1;31m---------------------------------------------------------------------------\u001b[0m",
      "\u001b[1;31mNameError\u001b[0m                                 Traceback (most recent call last)",
      "Cell \u001b[1;32mIn[17], line 1\u001b[0m\n\u001b[1;32m----> 1\u001b[0m life_data_df \u001b[38;5;241m=\u001b[39m df \u001b[38;5;241m=\u001b[39m pd\u001b[38;5;241m.\u001b[39mDataFrame([{\u001b[38;5;124m'\u001b[39m\u001b[38;5;124mlife_indicator\u001b[39m\u001b[38;5;124m'\u001b[39m: item[\u001b[38;5;124m'\u001b[39m\u001b[38;5;124mindicator\u001b[39m\u001b[38;5;124m'\u001b[39m][\u001b[38;5;124m'\u001b[39m\u001b[38;5;124mid\u001b[39m\u001b[38;5;124m'\u001b[39m], \u001b[38;5;124m'\u001b[39m\u001b[38;5;124mcountry\u001b[39m\u001b[38;5;124m'\u001b[39m: item[\u001b[38;5;124m'\u001b[39m\u001b[38;5;124mcountry\u001b[39m\u001b[38;5;124m'\u001b[39m][\u001b[38;5;124m'\u001b[39m\u001b[38;5;124mvalue\u001b[39m\u001b[38;5;124m'\u001b[39m], \u001b[38;5;124m'\u001b[39m\u001b[38;5;124mcountryiso3code\u001b[39m\u001b[38;5;124m'\u001b[39m: item[\u001b[38;5;124m'\u001b[39m\u001b[38;5;124mcountryiso3code\u001b[39m\u001b[38;5;124m'\u001b[39m], \u001b[38;5;124m'\u001b[39m\u001b[38;5;124mdate\u001b[39m\u001b[38;5;124m'\u001b[39m: item[\u001b[38;5;124m'\u001b[39m\u001b[38;5;124mdate\u001b[39m\u001b[38;5;124m'\u001b[39m], \u001b[38;5;124m'\u001b[39m\u001b[38;5;124mlife_value\u001b[39m\u001b[38;5;124m'\u001b[39m: item[\u001b[38;5;124m'\u001b[39m\u001b[38;5;124mvalue\u001b[39m\u001b[38;5;124m'\u001b[39m]} \u001b[38;5;28;01mfor\u001b[39;00m item \u001b[38;5;129;01min\u001b[39;00m life_data])\n",
      "\u001b[1;31mNameError\u001b[0m: name 'life_data' is not defined"
     ]
    }
   ],
   "source": [
    "life_data_df = df = pd.DataFrame([{'life_indicator': item['indicator']['id'], 'country': item['country']['value'], 'countryiso3code': item['countryiso3code'], 'date': item['date'], 'life_value': item['value']} for item in life_data])"
   ]
  },
  {
   "cell_type": "code",
   "execution_count": null,
   "id": "34f7db79-8ea8-4620-a2f0-08872b321503",
   "metadata": {},
   "outputs": [],
   "source": [
    "gdp_life_df = pd.merge(gdp_data_df, life_data_df, on = ['country','date'] , how = 'inner')"
   ]
  },
  {
   "cell_type": "code",
   "execution_count": null,
   "id": "1652a578-6a31-460e-8675-35395c62e859",
   "metadata": {},
   "outputs": [],
   "source": [
    "r = requests.get('https://api.worldbank.org/v2/country?format=json&per_page=296')"
   ]
  },
  {
   "cell_type": "code",
   "execution_count": null,
   "id": "8907f231-aee1-4a7e-9390-5d007e69e871",
   "metadata": {},
   "outputs": [],
   "source": [
    "country_data = r.json()[1]"
   ]
  },
  {
   "cell_type": "code",
   "execution_count": null,
   "id": "c2ab79f0-8d09-4415-badd-c24af7c2d148",
   "metadata": {},
   "outputs": [],
   "source": [
    "countries = []\n",
    "for country in country_data:\n",
    "    country_dict  = {}\n",
    "    country_dict['country'] = country['name']\n",
    "    country_dict['region'] = country['region']['value']\n",
    "    country_dict['admin_region'] = country['adminregion']['value']\n",
    "    country_dict['income_level'] = country['incomeLevel']['value']\n",
    "    country_dict['capital'] = country['capitalCity']\n",
    "    country_dict['longitude'] = country['longitude']\n",
    "    country_dict['latitude'] = country['latitude']\n",
    "    countries.append(country_dict)"
   ]
  },
  {
   "cell_type": "code",
   "execution_count": null,
   "id": "7acf9d59-4fee-4ffc-b5b5-893dabd2f2ac",
   "metadata": {},
   "outputs": [],
   "source": [
    "country_df = pd.DataFrame(countries)"
   ]
  },
  {
   "cell_type": "code",
   "execution_count": null,
   "id": "cbd1865b-704c-4b1c-aa13-31d42c6ebf3a",
   "metadata": {},
   "outputs": [],
   "source": [
    "country_life_data_df = pd.merge(gdp_life_df, country_df, on='country', how='left')"
   ]
  },
  {
   "cell_type": "code",
   "execution_count": null,
   "id": "92c4b1ed-a10a-49cb-8f96-b7cd4fc3da2c",
   "metadata": {},
   "outputs": [],
   "source": [
    "excluded_countries = [\n",
    "    'Africa Eastern and Southern', 'Africa Western and Central', 'Arab World',\n",
    "    'Caribbean small states', 'Central Europe and the Baltics',\n",
    "    'Early-demographic dividend', 'East Asia & Pacific',\n",
    "    'East Asia & Pacific (excluding high income)',\n",
    "    'East Asia & Pacific (IDA & IBRD countries)', 'Euro area',\n",
    "    'Europe & Central Asia', 'Europe & Central Asia (excluding high income)',\n",
    "    'Europe & Central Asia (IDA & IBRD countries)', 'European Union',\n",
    "    'Fragile and conflict affected situations',\n",
    "    'Heavily indebted poor countries (HIPC)', 'High income', 'IBRD only',\n",
    "    'IDA & IBRD total', 'IDA blend', 'IDA only', 'IDA total',\n",
    "    'Late-demographic dividend', 'Latin America & Caribbean',\n",
    "    'Latin America & Caribbean (excluding high income)',\n",
    "    'Latin America & the Caribbean (IDA & IBRD countries)',\n",
    "    'Least developed countries: UN classification', 'Low & middle income',\n",
    "    'Low income', 'Lower middle income', 'Middle East & North Africa',\n",
    "    'Middle East & North Africa (excluding high income)',\n",
    "    'Middle East & North Africa (IDA & IBRD countries)', 'Middle income',\n",
    "    'North America', 'Not classified', 'OECD members', 'Other small states',\n",
    "    'Pacific island small states', 'Post-demographic dividend',\n",
    "    'Pre-demographic dividend', 'Small states', 'South Asia',\n",
    "    'South Asia (IDA & IBRD)', 'Sub-Saharan Africa',\n",
    "    'Sub-Saharan Africa (excluding high income)',\n",
    "    'Sub-Saharan Africa (IDA & IBRD countries)', 'Upper middle income', 'World'\n",
    "]"
   ]
  },
  {
   "cell_type": "code",
   "execution_count": 20,
   "id": "73521f2c-e1a1-4950-87ce-f83c6787a8dd",
   "metadata": {},
   "outputs": [
    {
     "ename": "NameError",
     "evalue": "name 'country_life_data_df' is not defined",
     "output_type": "error",
     "traceback": [
      "\u001b[1;31m---------------------------------------------------------------------------\u001b[0m",
      "\u001b[1;31mNameError\u001b[0m                                 Traceback (most recent call last)",
      "Cell \u001b[1;32mIn[20], line 1\u001b[0m\n\u001b[1;32m----> 1\u001b[0m country_life_data_df \u001b[38;5;241m=\u001b[39m country_life_data_df[\u001b[38;5;241m~\u001b[39mcountry_life_data_df[\u001b[38;5;124m'\u001b[39m\u001b[38;5;124mcountry\u001b[39m\u001b[38;5;124m'\u001b[39m]\u001b[38;5;241m.\u001b[39misin(excluded_countries)]\n",
      "\u001b[1;31mNameError\u001b[0m: name 'country_life_data_df' is not defined"
     ]
    }
   ],
   "source": [
    "country_life_data_df = country_life_data_df[~country_life_data_df['country'].isin(excluded_countries)]"
   ]
  },
  {
   "cell_type": "code",
   "execution_count": null,
   "id": "21b50043-4bc3-4b66-bb31-62efd05bd461",
   "metadata": {},
   "outputs": [],
   "source": [
    "#file = r\"C:\\Users\\foste\\Documents\\NSS\\Python\\projects\\api-practice-fosterwolff\\country_life_data.csv\""
   ]
  },
  {
   "cell_type": "code",
   "execution_count": null,
   "id": "308e990a-1e65-421e-a352-8010f55dcc9e",
   "metadata": {},
   "outputs": [],
   "source": [
    "#country_life_data_df.to_csv(file, index=False)"
   ]
  },
  {
   "cell_type": "code",
   "execution_count": null,
   "id": "7061449e-9f6c-4b65-bb85-d73d56e0e123",
   "metadata": {},
   "outputs": [],
   "source": []
  },
  {
   "cell_type": "code",
   "execution_count": null,
   "id": "e619185b-ee85-4549-8767-7aebbb859918",
   "metadata": {},
   "outputs": [],
   "source": []
  }
 ],
 "metadata": {
  "kernelspec": {
   "display_name": "Python [conda env:base] *",
   "language": "python",
   "name": "conda-base-py"
  },
  "language_info": {
   "codemirror_mode": {
    "name": "ipython",
    "version": 3
   },
   "file_extension": ".py",
   "mimetype": "text/x-python",
   "name": "python",
   "nbconvert_exporter": "python",
   "pygments_lexer": "ipython3",
   "version": "3.12.7"
  }
 },
 "nbformat": 4,
 "nbformat_minor": 5
}
